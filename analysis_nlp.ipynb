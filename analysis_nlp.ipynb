{
 "cells": [
  {
   "cell_type": "markdown",
   "id": "2f16a357-49e5-4059-af66-fdaf839ff46c",
   "metadata": {},
   "source": [
    "## 1. Business Understanding\n",
    "### 1.1 Business Overview\n",
    "In the modern technology era, social media platforms such as Twoter(x) have become powerful soaces where users share real-time opinions on brands and products. Companies such as Apple and Google, both global leaders  in technology and innovation, benefit greatly from understanding these public sentiments. Analyzing tweets about them helps reveal consumer opinions, trends and brand perceptions. Since manually reviewing  thousands of tweets is inefficient, automated sentiment analysis provides an effective solution. Classifing tweets as positive,negative or neutral to help companies monitor reputation, improve customer satisfaction  and make informed strategic decisions\n",
    "\n",
    "### 1.2 Problem Statement\n",
    "In odays digital era, social media platforms like Twitter(x) have becomes key spaces where people share their opinions about brands and products. For global technology companies like Apple and Google, these tweets offer valuable insights into customer satisfaction, brand reputation and customer loyalty. However, the large volume of unstructured data makes it difficult to manually analyze the oublics sentiment in real time. To solve this problem, this project aims at developing an automated sentiment analysis model using Natural Language Processing(NLP) to classify tweets as positive, negative or neutral. This will help the companies better understand consumer perception, respond to feedback quickly and generally improve their products and overall Brand Image\n",
    "### 1.3 Business Objectives \n",
    " ### Main Objective\n",
    "To build a model that can rate the sentiment of a Tweet based on its content\n",
    " ### Specific Objectives\n",
    "To establish patterns and relationships between tweet content and corresponding sentiment categories.\n",
    "\r\n",
    "To identify whether the special characters portray meaningful info. characters #,@ and lin\n",
    "kCompare model results using metrics such as accuracy, precision, recall and F-1 score to identify the best-performing model.\n",
    "\r\n",
    "Analyze a lot of tweets to find out what emotional patterns are popular and whether people's perceptions of Apple and Google products are changing.\r\n",
    "\r\n",
    "Recognize the Main Sentiment Drivers: To determine which words, phrases, or subjects have the greatest influence on whether people see a brand favoly or unfavorably\n",
    "\n",
    "### Research Questions\n",
    "1. What patterns and relationships exist between content and their correspondiing sentiment categories?\n",
    "2. Do special characters suc as #,@ and links carry any meaningful information that affects tweet sentiment:?\n",
    "3. What specific products, features or topics are the main targets of users' emotions towards  Apple and Google?\n",
    "4. Which machine learning model performs the best in classfying tweet sentiment based on metrics such as accuracy, precision, recall and F1-score?\n",
    "5. SWhat are the main words, phrases or themes that drive positove ir negative sentiment towards these brands , and how do these patterns change over time?\n",
    "\n",
    "### 1.4. Success Criteria\n",
    "The project will be successful if it develops an accurate and reliable sentiment classification model that achieves an average F1-score of above 0.80 and maintains balanced precision and recall across all sentiment categories.\n",
    "Success will also be measured by the models ability to generaliz well to unseen data, minimize misclassification between positive and negative tweets and provide actionable insights that help improve customer service and management of the brand.rab\r\n",
    "\r\n"
   ]
  },
  {
   "cell_type": "markdown",
   "id": "ebeaed45-37af-43a0-8484-46e7f45cf256",
   "metadata": {},
   "source": [
    "## 2.0 Data Understanding\n",
    "### 2.1 Data source and Description\n",
    "- **Source:** This dataset is from CrowdFlower via data.world containing human raters sentiments. For more insights about the dataset you can follow this link https://data.world/crowdflower/brands-and-product-emotions.\r\n",
    "\r\n",
    "- **Description** The dataset has sentiments from over 9000 twitter users with each row containing a  users tweet_text, emotion_in_tweet_is_directed_at and emotion. Our main target is to use the text and train our model to predict the emotion from the text.\n"
   ]
  },
  {
   "cell_type": "markdown",
   "id": "ca6b0511-c88d-4403-af54-a06bc202f1ae",
   "metadata": {},
   "source": [
    "### 2.2 Data Loading\n",
    "1. Import necessary libraries\n",
    "2. Load Dataset"
   ]
  },
  {
   "cell_type": "code",
   "execution_count": 5,
   "id": "4cf08250-93e5-4f7a-aef0-f5113d1dd8e6",
   "metadata": {},
   "outputs": [],
   "source": [
    "# importing the necessary libraries\n",
    "import pandas as pd\n",
    "import seaborn as sns\n",
    "import matplotlib.pyplot as plt\n",
    "import nltk\n",
    "import re\n",
    "import string\n",
    "from nltk.corpus import stopwords\n",
    "from nltk.tokenize import word_tokenize, RegexpTokenizer\n",
    "from nltk.stem import PorterStemmer, WordNetLemmatizer\n",
    "from nltk import FreqDist\n",
    "from sklearn.feature_extraction.text import CountVectorizer\n",
    "from sklearn.feature_extraction.text import TfidfVectorizer"
   ]
  },
  {
   "cell_type": "code",
   "execution_count": 6,
   "id": "fde03a82-d708-46a9-a7f8-7bc38213bf36",
   "metadata": {},
   "outputs": [],
   "source": [
    "# Loading Dataset \n",
    "df = pd.read_csv(r\"C:/Users/kabif/Downloads/tweet_product_company.csv\", encoding='ISO-8859-1')"
   ]
  },
  {
   "cell_type": "markdown",
   "id": "08633e36-cfe8-4b49-8c48-7f3fb4202c8a",
   "metadata": {},
   "source": [
    "### 2.3 Data Exploration\n"
   ]
  },
  {
   "cell_type": "code",
   "execution_count": 7,
   "id": "44ece788-8262-4310-a94f-33b5e03a3670",
   "metadata": {},
   "outputs": [
    {
     "data": {
      "text/html": [
       "<div>\n",
       "<style scoped>\n",
       "    .dataframe tbody tr th:only-of-type {\n",
       "        vertical-align: middle;\n",
       "    }\n",
       "\n",
       "    .dataframe tbody tr th {\n",
       "        vertical-align: top;\n",
       "    }\n",
       "\n",
       "    .dataframe thead th {\n",
       "        text-align: right;\n",
       "    }\n",
       "</style>\n",
       "<table border=\"1\" class=\"dataframe\">\n",
       "  <thead>\n",
       "    <tr style=\"text-align: right;\">\n",
       "      <th></th>\n",
       "      <th>tweet_text</th>\n",
       "      <th>emotion_in_tweet_is_directed_at</th>\n",
       "      <th>is_there_an_emotion_directed_at_a_brand_or_product</th>\n",
       "    </tr>\n",
       "  </thead>\n",
       "  <tbody>\n",
       "    <tr>\n",
       "      <th>0</th>\n",
       "      <td>.@wesley83 I have a 3G iPhone. After 3 hrs twe...</td>\n",
       "      <td>iPhone</td>\n",
       "      <td>Negative emotion</td>\n",
       "    </tr>\n",
       "    <tr>\n",
       "      <th>1</th>\n",
       "      <td>@jessedee Know about @fludapp ? Awesome iPad/i...</td>\n",
       "      <td>iPad or iPhone App</td>\n",
       "      <td>Positive emotion</td>\n",
       "    </tr>\n",
       "    <tr>\n",
       "      <th>2</th>\n",
       "      <td>@swonderlin Can not wait for #iPad 2 also. The...</td>\n",
       "      <td>iPad</td>\n",
       "      <td>Positive emotion</td>\n",
       "    </tr>\n",
       "    <tr>\n",
       "      <th>3</th>\n",
       "      <td>@sxsw I hope this year's festival isn't as cra...</td>\n",
       "      <td>iPad or iPhone App</td>\n",
       "      <td>Negative emotion</td>\n",
       "    </tr>\n",
       "    <tr>\n",
       "      <th>4</th>\n",
       "      <td>@sxtxstate great stuff on Fri #SXSW: Marissa M...</td>\n",
       "      <td>Google</td>\n",
       "      <td>Positive emotion</td>\n",
       "    </tr>\n",
       "  </tbody>\n",
       "</table>\n",
       "</div>"
      ],
      "text/plain": [
       "                                          tweet_text  \\\n",
       "0  .@wesley83 I have a 3G iPhone. After 3 hrs twe...   \n",
       "1  @jessedee Know about @fludapp ? Awesome iPad/i...   \n",
       "2  @swonderlin Can not wait for #iPad 2 also. The...   \n",
       "3  @sxsw I hope this year's festival isn't as cra...   \n",
       "4  @sxtxstate great stuff on Fri #SXSW: Marissa M...   \n",
       "\n",
       "  emotion_in_tweet_is_directed_at  \\\n",
       "0                          iPhone   \n",
       "1              iPad or iPhone App   \n",
       "2                            iPad   \n",
       "3              iPad or iPhone App   \n",
       "4                          Google   \n",
       "\n",
       "  is_there_an_emotion_directed_at_a_brand_or_product  \n",
       "0                                   Negative emotion  \n",
       "1                                   Positive emotion  \n",
       "2                                   Positive emotion  \n",
       "3                                   Negative emotion  \n",
       "4                                   Positive emotion  "
      ]
     },
     "execution_count": 7,
     "metadata": {},
     "output_type": "execute_result"
    }
   ],
   "source": [
    "df.head()"
   ]
  },
  {
   "cell_type": "code",
   "execution_count": 8,
   "id": "f90629e5-4498-442a-aba1-64105abbb2cb",
   "metadata": {},
   "outputs": [
    {
     "data": {
      "text/plain": [
       "(9093, 3)"
      ]
     },
     "execution_count": 8,
     "metadata": {},
     "output_type": "execute_result"
    }
   ],
   "source": [
    "df.shape"
   ]
  },
  {
   "cell_type": "code",
   "execution_count": 9,
   "id": "4dde0bdb-672e-44ba-a857-c70a7dcb9682",
   "metadata": {},
   "outputs": [
    {
     "name": "stdout",
     "output_type": "stream",
     "text": [
      "<class 'pandas.core.frame.DataFrame'>\n",
      "RangeIndex: 9093 entries, 0 to 9092\n",
      "Data columns (total 3 columns):\n",
      " #   Column                                              Non-Null Count  Dtype \n",
      "---  ------                                              --------------  ----- \n",
      " 0   tweet_text                                          9092 non-null   object\n",
      " 1   emotion_in_tweet_is_directed_at                     3291 non-null   object\n",
      " 2   is_there_an_emotion_directed_at_a_brand_or_product  9093 non-null   object\n",
      "dtypes: object(3)\n",
      "memory usage: 213.2+ KB\n"
     ]
    }
   ],
   "source": [
    "df.info()"
   ]
  },
  {
   "cell_type": "code",
   "execution_count": 37,
   "id": "c4648861-be75-4ebd-a470-5c1cc789ad0f",
   "metadata": {},
   "outputs": [
    {
     "data": {
      "text/plain": [
       "Text(0.5, 1.0, 'Emotion Proportions')"
      ]
     },
     "execution_count": 37,
     "metadata": {},
     "output_type": "execute_result"
    },
    {
     "data": {
      "image/png": "[encoded data removed]",
      "text/plain": [
       "<Figure size 1200x500 with 2 Axes>"
      ]
     },
     "metadata": {},
     "output_type": "display_data"
    }
   ],
   "source": [
    "# Distribution of emotions in the dataset\n",
    "plt.figure(figsize=(12, 5))\n",
    "plt.subplot(1, 2, 1)\n",
    "df['is_there_an_emotion_directed_at_a_brand_or_product'].value_counts().plot(kind='bar')\n",
    "plt.title('Emotion Distribution')\n",
    "plt.xticks(rotation=90)\n",
    "\n",
    "plt.subplot(1, 2, 2)\n",
    "df['is_there_an_emotion_directed_at_a_brand_or_product'].value_counts().plot(kind='pie', autopct='%1.1f%%')\n",
    "plt.title('Emotion Proportions')"
   ]
  },
  {
   "cell_type": "code",
   "execution_count": 38,
   "id": "3379d6bf-8ac1-4766-9ab4-0e4edbbd952a",
   "metadata": {},
   "outputs": [
    {
     "name": "stdout",
     "output_type": "stream",
     "text": [
      "Missing data on where emotion is directed to: 0/9066 (0.0%)\n"
     ]
    },
    {
     "data": {
      "text/plain": [
       "Text(0.5, 0, 'Count')"
      ]
     },
     "execution_count": 38,
     "metadata": {},
     "output_type": "execute_result"
    },
    {
     "data": {
      "image/png": "[encoded data removed]",
      "text/plain": [
       "<Figure size 1000x600 with 1 Axes>"
      ]
     },
     "metadata": {},
     "output_type": "display_data"
    }
   ],
   "source": [
    "# Missingness analysis\n",
    "missing_brand = df['emotion_in_tweet_is_directed_at'].isna().sum()\n",
    "total_length = len(df)\n",
    "print(f\"Missing data on where emotion is directed to: {missing_brand}/{total_length} ({missing_brand/total_length:.1%})\")\n",
    "\n",
    "# Plot for the non-missing values\n",
    "directed_at_counts = df['emotion_in_tweet_is_directed_at'].value_counts().head(10)\n",
    "plt.figure(figsize=(10, 6))\n",
    "directed_at_counts.plot(kind='barh')\n",
    "plt.title('Top 10 directed at Mentioned')\n",
    "plt.xlabel('Count')"
   ]
  },
  {
   "cell_type": "code",
   "execution_count": 10,
   "id": "d1290559-6e58-4352-8966-225a6059cc12",
   "metadata": {},
   "outputs": [
    {
     "data": {
      "text/plain": [
       "tweet_text                                               1\n",
       "emotion_in_tweet_is_directed_at                       5802\n",
       "is_there_an_emotion_directed_at_a_brand_or_product       0\n",
       "dtype: int64"
      ]
     },
     "execution_count": 10,
     "metadata": {},
     "output_type": "execute_result"
    }
   ],
   "source": [
    "# checking for miaaing values \n",
    "df.isnull().sum()"
   ]
  },
  {
   "cell_type": "markdown",
   "id": "7928dc42-637e-4864-976d-858331a9fbd7",
   "metadata": {},
   "source": [
    "We have missing values in tweet-text and emotion_in_tweet columns."
   ]
  },
  {
   "cell_type": "code",
   "execution_count": 11,
   "id": "9b25df9f-c658-4d6e-a3f9-222521da2d8e",
   "metadata": {},
   "outputs": [
    {
     "data": {
      "text/plain": [
       "22"
      ]
     },
     "execution_count": 11,
     "metadata": {},
     "output_type": "execute_result"
    }
   ],
   "source": [
    "# checking for duplicates\n",
    "df.duplicated().sum()"
   ]
  },
  {
   "cell_type": "code",
   "execution_count": 13,
   "id": "941ccdb7-c39b-4cec-a86a-56c1de55797b",
   "metadata": {},
   "outputs": [],
   "source": [
    "# drop duplicates \n",
    "df.drop_duplicates(inplace=True)"
   ]
  },
  {
   "cell_type": "code",
   "execution_count": 14,
   "id": "766b9f14-cabd-48a5-81ee-4967e0055819",
   "metadata": {},
   "outputs": [
    {
     "data": {
      "text/plain": [
       "5"
      ]
     },
     "execution_count": 14,
     "metadata": {},
     "output_type": "execute_result"
    }
   ],
   "source": [
    "df['tweet_text'].duplicated().sum()"
   ]
  },
  {
   "cell_type": "code",
   "execution_count": 15,
   "id": "03ff38d0-9433-47d2-84b0-d4dc3619259e",
   "metadata": {},
   "outputs": [],
   "source": [
    "df.drop_duplicates(subset=['tweet_text'],inplace=True)"
   ]
  },
  {
   "cell_type": "code",
   "execution_count": 16,
   "id": "13cf5f9b-8405-4d5c-bdf6-8b0a104766b6",
   "metadata": {},
   "outputs": [
    {
     "data": {
      "text/plain": [
       "0"
      ]
     },
     "execution_count": 16,
     "metadata": {},
     "output_type": "execute_result"
    }
   ],
   "source": [
    "df.duplicated().sum()"
   ]
  },
  {
   "cell_type": "code",
   "execution_count": 18,
   "id": "fdce0429-8ddc-44cb-ad34-839969e141ef",
   "metadata": {},
   "outputs": [
    {
     "data": {
      "text/plain": [
       "0"
      ]
     },
     "execution_count": 18,
     "metadata": {},
     "output_type": "execute_result"
    }
   ],
   "source": [
    "df['is_there_an_emotion_directed_at_a_brand_or_product'].isna().sum()"
   ]
  },
  {
   "cell_type": "code",
   "execution_count": 19,
   "id": "341e3e2e-b061-4be6-8245-3e631030a7ab",
   "metadata": {},
   "outputs": [
    {
     "data": {
      "text/plain": [
       "5786"
      ]
     },
     "execution_count": 19,
     "metadata": {},
     "output_type": "execute_result"
    }
   ],
   "source": [
    "df['emotion_in_tweet_is_directed_at'].isna().sum()"
   ]
  },
  {
   "cell_type": "code",
   "execution_count": 21,
   "id": "909ff0fe-0aaa-459d-977d-f8153980169e",
   "metadata": {},
   "outputs": [
    {
     "data": {
      "text/plain": [
       "emotion_in_tweet_is_directed_at\n",
       "iPad                               943\n",
       "Apple                              659\n",
       "iPad or iPhone App                 469\n",
       "Google                             428\n",
       "iPhone                             296\n",
       "Other Google product or service    293\n",
       "Android App                         80\n",
       "Android                             77\n",
       "Other Apple product or service      35\n",
       "Name: count, dtype: int64"
      ]
     },
     "execution_count": 21,
     "metadata": {},
     "output_type": "execute_result"
    }
   ],
   "source": [
    "df['emotion_in_tweet_is_directed_at'].value_counts()"
   ]
  },
  {
   "cell_type": "code",
   "execution_count": 26,
   "id": "a7e8834c-82db-4722-9cea-80c2dc218ebb",
   "metadata": {},
   "outputs": [],
   "source": [
    "df['emotion_in_tweet_is_directed_at'].fillna('unknown',inplace=True)\n"
   ]
  },
  {
   "cell_type": "code",
   "execution_count": 25,
   "id": "efee6ddb-627c-4852-ac00-3159b5952fd3",
   "metadata": {},
   "outputs": [
    {
     "data": {
      "text/plain": [
       "array(['iPhone', 'iPad or iPhone App', 'iPad', 'Google', 'unknown',\n",
       "       'Android', 'Apple', 'Android App',\n",
       "       'Other Google product or service',\n",
       "       'Other Apple product or service'], dtype=object)"
      ]
     },
     "execution_count": 25,
     "metadata": {},
     "output_type": "execute_result"
    }
   ],
   "source": [
    "df['emotion_in_tweet_is_directed_at'].unique()"
   ]
  },
  {
   "cell_type": "code",
   "execution_count": 27,
   "id": "64877793-447e-4a22-8543-e0d24a1e3154",
   "metadata": {},
   "outputs": [
    {
     "data": {
      "text/plain": [
       "emotion_in_tweet_is_directed_at\n",
       "unknown                            5786\n",
       "iPad                                943\n",
       "Apple                               659\n",
       "iPad or iPhone App                  469\n",
       "Google                              428\n",
       "iPhone                              296\n",
       "Other Google product or service     293\n",
       "Android App                          80\n",
       "Android                              77\n",
       "Other Apple product or service       35\n",
       "Name: count, dtype: int64"
      ]
     },
     "execution_count": 27,
     "metadata": {},
     "output_type": "execute_result"
    }
   ],
   "source": [
    "df['emotion_in_tweet_is_directed_at'].value_counts()"
   ]
  },
  {
   "cell_type": "code",
   "execution_count": 28,
   "id": "6e0faf02-26bb-432c-9bbf-0cc7da429a88",
   "metadata": {},
   "outputs": [
    {
     "data": {
      "text/plain": [
       "1"
      ]
     },
     "execution_count": 28,
     "metadata": {},
     "output_type": "execute_result"
    }
   ],
   "source": [
    "df['tweet_text'].isna().sum()"
   ]
  },
  {
   "cell_type": "code",
   "execution_count": 30,
   "id": "2838a085-6883-47b0-a904-c9ff60cb2045",
   "metadata": {},
   "outputs": [],
   "source": [
    "missing_val = df['tweet_text'].mode()[0]\n",
    "df['tweet_text'].fillna(missing_val,inplace=True)"
   ]
  },
  {
   "cell_type": "code",
   "execution_count": 31,
   "id": "20e81452-8063-4565-bf31-e4f3c4f0329a",
   "metadata": {},
   "outputs": [
    {
     "name": "stdout",
     "output_type": "stream",
     "text": [
      "<class 'pandas.core.frame.DataFrame'>\n",
      "Index: 9066 entries, 0 to 9092\n",
      "Data columns (total 3 columns):\n",
      " #   Column                                              Non-Null Count  Dtype \n",
      "---  ------                                              --------------  ----- \n",
      " 0   tweet_text                                          9066 non-null   object\n",
      " 1   emotion_in_tweet_is_directed_at                     9066 non-null   object\n",
      " 2   is_there_an_emotion_directed_at_a_brand_or_product  9066 non-null   object\n",
      "dtypes: object(3)\n",
      "memory usage: 283.3+ KB\n"
     ]
    }
   ],
   "source": [
    "df.info()"
   ]
  },
  {
   "cell_type": "code",
   "execution_count": 33,
   "id": "38e86097-4378-486b-9a7b-3e2589ee255b",
   "metadata": {},
   "outputs": [
    {
     "data": {
      "text/plain": [
       "is_there_an_emotion_directed_at_a_brand_or_product\n",
       "No emotion toward brand or product    5373\n",
       "Positive emotion                      2968\n",
       "Negative emotion                       569\n",
       "I can't tell                           156\n",
       "Name: count, dtype: int64"
      ]
     },
     "execution_count": 33,
     "metadata": {},
     "output_type": "execute_result"
    }
   ],
   "source": [
    "df['is_there_an_emotion_directed_at_a_brand_or_product'].value_counts()"
   ]
  },
  {
   "cell_type": "code",
   "execution_count": 36,
   "id": "b64f1d1d-1ef8-4a78-8d63-e43a54e97d26",
   "metadata": {},
   "outputs": [
    {
     "name": "stdout",
     "output_type": "stream",
     "text": [
      "                                             tweet_text  char_count  \\\n",
      "0     .@wesley83 I have a 3G iPhone. After 3 hrs twe...         127   \n",
      "1     @jessedee Know about @fludapp ? Awesome iPad/i...         139   \n",
      "2     @swonderlin Can not wait for #iPad 2 also. The...          79   \n",
      "3     @sxsw I hope this year's festival isn't as cra...          82   \n",
      "4     @sxtxstate great stuff on Fri #SXSW: Marissa M...         131   \n",
      "...                                                 ...         ...   \n",
      "9088                      Ipad everywhere. #SXSW {link}          29   \n",
      "9089  Wave, buzz... RT @mention We interrupt your re...         125   \n",
      "9090  Google's Zeiger, a physician never reported po...         145   \n",
      "9091  Some Verizon iPhone customers complained their...         140   \n",
      "9092  Ï¡Ïàü_ÊÎÒ£Áââ_£â_ÛâRT @...         104   \n",
      "\n",
      "      word_count  \n",
      "0             23  \n",
      "1             22  \n",
      "2             15  \n",
      "3             15  \n",
      "4             17  \n",
      "...          ...  \n",
      "9088           4  \n",
      "9089          18  \n",
      "9090          19  \n",
      "9091          23  \n",
      "9092           9  \n",
      "\n",
      "[9066 rows x 3 columns]\n"
     ]
    }
   ],
   "source": [
    "# Calculating character count\n",
    "df['char_count'] = df['tweet_text'].str.len()\n",
    "\n",
    "# Calculating word count\n",
    "df['word_count'] = df['tweet_text'].apply(lambda x: len(str(x).split()))\n",
    "print(df[['tweet_text', 'char_count', 'word_count']])"
   ]
  },
  {
   "cell_type": "code",
   "execution_count": 43,
   "id": "2f3b0d20-1326-4f05-b5f1-c0a394f446f9",
   "metadata": {},
   "outputs": [],
   "source": [
    "nltk.download('stopwords', quiet=True)\n",
    "nltk.download('punkt', quiet=True)\n",
    "\n",
    "# Define the text cleaning function \n",
    "def clean_text_with_stemming(text):\n",
    "    # 1. Convert to lowercase\n",
    "    text = text.lower()\n",
    "    \n",
    "    # 2. Remove URLs, mentions, and hashtags\n",
    "    text = re.sub(r'https?://\\S+|www\\.\\S+', '', text)\n",
    "    text = re.sub(r'@[A-Za-z0-9_]+', '', text)\n",
    "    text = re.sub(r'#', '', text)\n",
    "\n",
    "    # 3. Tokenize using RegexpTokenizer (removes punctuation)\n",
    "    tokenizer = RegexpTokenizer(r'\\w+')\n",
    "    tokens = tokenizer.tokenize(text)\n",
    "    \n",
    "    # 4. Remove stopwords\n",
    "    stop_words = set(stopwords.words('english'))\n",
    "    filtered_tokens = [word for word in tokens if word not in stop_words]\n",
    "\n",
    "    # 5. Apply Porter Stemmer\n",
    "    stemmer = PorterStemmer()\n",
    "    stemmed_tokens = [stemmer.stem(word) for word in filtered_tokens]\n",
    "\n",
    "    return ' '.join(stemmed_tokens)\n",
    "\n",
    "# Apply the new cleaning function to the 'tweet_text' column\n",
    "df['cleaned_text'] = df['tweet_text'].apply(clean_text_with_stemming)"
   ]
  },
  {
   "cell_type": "code",
   "execution_count": null,
   "id": "72a1609e-b640-4667-a7af-b9a8478da4c2",
   "metadata": {},
   "outputs": [],
   "source": []
  }
 ],
 "metadata": {
  "kernelspec": {
   "display_name": "Python [conda env:base]",
   "language": "python",
   "name": "conda-base-py"
  },
  "language_info": {
   "codemirror_mode": {
    "name": "ipython",
    "version": 3
   },
   "file_extension": ".py",
   "mimetype": "text/x-python",
   "name": "python",
   "nbconvert_exporter": "python",
   "pygments_lexer": "ipython3",
   "version": "3.11.7"
  }
 },
 "nbformat": 4,
 "nbformat_minor": 5
}
