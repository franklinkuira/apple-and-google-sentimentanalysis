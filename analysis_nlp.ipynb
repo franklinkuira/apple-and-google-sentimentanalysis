{
 "cells": [
  {
   "cell_type": "markdown",
   "id": "2f16a357-49e5-4059-af66-fdaf839ff46c",
   "metadata": {},
   "source": [
    "## Business Understanding\n",
    "### 1.1 Business Overview\n",
    "### 1.2 Problem Statement\n",
    "### 1.3"
   ]
  }
 ],
 "metadata": {
  "kernelspec": {
   "display_name": "Python [conda env:base]",
   "language": "python",
   "name": "conda-base-py"
  },
  "language_info": {
   "codemirror_mode": {
    "name": "ipython",
    "version": 3
   },
   "file_extension": ".py",
   "mimetype": "text/x-python",
   "name": "python",
   "nbconvert_exporter": "python",
   "pygments_lexer": "ipython3",
   "version": "3.11.7"
  }
 },
 "nbformat": 4,
 "nbformat_minor": 5
}
